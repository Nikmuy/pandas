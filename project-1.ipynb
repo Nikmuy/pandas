{
 "cells": [
  {
   "cell_type": "code",
   "execution_count": 2,
   "metadata": {},
   "outputs": [],
   "source": [
    "import matplotlib.pyplot as plt\n",
    "import seaborn as sns\n",
    "import pandas as pd\n",
    "import numpy as np\n",
    "df=pd.read_csv(\"C:/Users/kukup/Downloads/Steam.csv\")"
   ]
  },
  {
   "cell_type": "markdown",
   "metadata": {},
   "source": [
    "1) Провести предобработку данных (пропуски, дубликаты и т.д.) "
   ]
  },
  {
   "cell_type": "code",
   "execution_count": 3,
   "metadata": {},
   "outputs": [
    {
     "data": {
      "text/html": [
       "<div>\n",
       "<style scoped>\n",
       "    .dataframe tbody tr th:only-of-type {\n",
       "        vertical-align: middle;\n",
       "    }\n",
       "\n",
       "    .dataframe tbody tr th {\n",
       "        vertical-align: top;\n",
       "    }\n",
       "\n",
       "    .dataframe thead th {\n",
       "        text-align: right;\n",
       "    }\n",
       "</style>\n",
       "<table border=\"1\" class=\"dataframe\">\n",
       "  <thead>\n",
       "    <tr style=\"text-align: right;\">\n",
       "      <th></th>\n",
       "      <th>appid</th>\n",
       "      <th>name</th>\n",
       "      <th>release_date</th>\n",
       "      <th>english</th>\n",
       "      <th>developer</th>\n",
       "      <th>publisher</th>\n",
       "      <th>platforms</th>\n",
       "      <th>required_age</th>\n",
       "      <th>genres</th>\n",
       "      <th>achievements</th>\n",
       "      <th>positive_ratings</th>\n",
       "      <th>negative_ratings</th>\n",
       "      <th>average_playtime</th>\n",
       "      <th>median_playtime</th>\n",
       "      <th>owners</th>\n",
       "      <th>price</th>\n",
       "    </tr>\n",
       "  </thead>\n",
       "  <tbody>\n",
       "    <tr>\n",
       "      <th>0</th>\n",
       "      <td>10</td>\n",
       "      <td>Counter-Strike</td>\n",
       "      <td>2000-11-01</td>\n",
       "      <td>1</td>\n",
       "      <td>Valve</td>\n",
       "      <td>Valve</td>\n",
       "      <td>windows;mac;linux</td>\n",
       "      <td>0</td>\n",
       "      <td>Action</td>\n",
       "      <td>0</td>\n",
       "      <td>124534</td>\n",
       "      <td>3339</td>\n",
       "      <td>17612</td>\n",
       "      <td>317</td>\n",
       "      <td>10000000-20000000</td>\n",
       "      <td>7.19</td>\n",
       "    </tr>\n",
       "    <tr>\n",
       "      <th>1</th>\n",
       "      <td>20</td>\n",
       "      <td>Team Fortress Classic</td>\n",
       "      <td>1999-04-01</td>\n",
       "      <td>1</td>\n",
       "      <td>Valve</td>\n",
       "      <td>Valve</td>\n",
       "      <td>windows;mac;linux</td>\n",
       "      <td>0</td>\n",
       "      <td>Action</td>\n",
       "      <td>0</td>\n",
       "      <td>3318</td>\n",
       "      <td>633</td>\n",
       "      <td>277</td>\n",
       "      <td>62</td>\n",
       "      <td>5000000-10000000</td>\n",
       "      <td>3.99</td>\n",
       "    </tr>\n",
       "    <tr>\n",
       "      <th>2</th>\n",
       "      <td>30</td>\n",
       "      <td>Day of Defeat</td>\n",
       "      <td>2003-05-01</td>\n",
       "      <td>1</td>\n",
       "      <td>Valve</td>\n",
       "      <td>Valve</td>\n",
       "      <td>windows;mac;linux</td>\n",
       "      <td>0</td>\n",
       "      <td>Action</td>\n",
       "      <td>0</td>\n",
       "      <td>3416</td>\n",
       "      <td>398</td>\n",
       "      <td>187</td>\n",
       "      <td>34</td>\n",
       "      <td>5000000-10000000</td>\n",
       "      <td>3.99</td>\n",
       "    </tr>\n",
       "    <tr>\n",
       "      <th>3</th>\n",
       "      <td>40</td>\n",
       "      <td>Deathmatch Classic</td>\n",
       "      <td>2001-06-01</td>\n",
       "      <td>1</td>\n",
       "      <td>Valve</td>\n",
       "      <td>Valve</td>\n",
       "      <td>windows;mac;linux</td>\n",
       "      <td>0</td>\n",
       "      <td>Action</td>\n",
       "      <td>0</td>\n",
       "      <td>1273</td>\n",
       "      <td>267</td>\n",
       "      <td>258</td>\n",
       "      <td>184</td>\n",
       "      <td>5000000-10000000</td>\n",
       "      <td>3.99</td>\n",
       "    </tr>\n",
       "    <tr>\n",
       "      <th>4</th>\n",
       "      <td>50</td>\n",
       "      <td>Half-Life: Opposing Force</td>\n",
       "      <td>1999-11-01</td>\n",
       "      <td>1</td>\n",
       "      <td>Gearbox Software</td>\n",
       "      <td>Valve</td>\n",
       "      <td>windows;mac;linux</td>\n",
       "      <td>0</td>\n",
       "      <td>Action</td>\n",
       "      <td>0</td>\n",
       "      <td>5250</td>\n",
       "      <td>288</td>\n",
       "      <td>624</td>\n",
       "      <td>415</td>\n",
       "      <td>5000000-10000000</td>\n",
       "      <td>3.99</td>\n",
       "    </tr>\n",
       "    <tr>\n",
       "      <th>5</th>\n",
       "      <td>60</td>\n",
       "      <td>Ricochet</td>\n",
       "      <td>2000-11-01</td>\n",
       "      <td>1</td>\n",
       "      <td>Valve</td>\n",
       "      <td>Valve</td>\n",
       "      <td>windows;mac;linux</td>\n",
       "      <td>0</td>\n",
       "      <td>Action</td>\n",
       "      <td>0</td>\n",
       "      <td>2758</td>\n",
       "      <td>684</td>\n",
       "      <td>175</td>\n",
       "      <td>10</td>\n",
       "      <td>5000000-10000000</td>\n",
       "      <td>3.99</td>\n",
       "    </tr>\n",
       "    <tr>\n",
       "      <th>6</th>\n",
       "      <td>70</td>\n",
       "      <td>Half-Life</td>\n",
       "      <td>1998-11-08</td>\n",
       "      <td>1</td>\n",
       "      <td>Valve</td>\n",
       "      <td>Valve</td>\n",
       "      <td>windows;mac;linux</td>\n",
       "      <td>0</td>\n",
       "      <td>Action</td>\n",
       "      <td>0</td>\n",
       "      <td>27755</td>\n",
       "      <td>1100</td>\n",
       "      <td>1300</td>\n",
       "      <td>83</td>\n",
       "      <td>5000000-10000000</td>\n",
       "      <td>7.19</td>\n",
       "    </tr>\n",
       "    <tr>\n",
       "      <th>7</th>\n",
       "      <td>80</td>\n",
       "      <td>Counter-Strike: Condition Zero</td>\n",
       "      <td>2004-03-01</td>\n",
       "      <td>1</td>\n",
       "      <td>Valve</td>\n",
       "      <td>Valve</td>\n",
       "      <td>windows;mac;linux</td>\n",
       "      <td>0</td>\n",
       "      <td>Action</td>\n",
       "      <td>0</td>\n",
       "      <td>12120</td>\n",
       "      <td>1439</td>\n",
       "      <td>427</td>\n",
       "      <td>43</td>\n",
       "      <td>10000000-20000000</td>\n",
       "      <td>7.19</td>\n",
       "    </tr>\n",
       "    <tr>\n",
       "      <th>8</th>\n",
       "      <td>130</td>\n",
       "      <td>Half-Life: Blue Shift</td>\n",
       "      <td>2001-06-01</td>\n",
       "      <td>1</td>\n",
       "      <td>Gearbox Software</td>\n",
       "      <td>Valve</td>\n",
       "      <td>windows;mac;linux</td>\n",
       "      <td>0</td>\n",
       "      <td>Action</td>\n",
       "      <td>0</td>\n",
       "      <td>3822</td>\n",
       "      <td>420</td>\n",
       "      <td>361</td>\n",
       "      <td>205</td>\n",
       "      <td>5000000-10000000</td>\n",
       "      <td>3.99</td>\n",
       "    </tr>\n",
       "    <tr>\n",
       "      <th>9</th>\n",
       "      <td>220</td>\n",
       "      <td>Half-Life 2</td>\n",
       "      <td>2004-11-16</td>\n",
       "      <td>1</td>\n",
       "      <td>Valve</td>\n",
       "      <td>Valve</td>\n",
       "      <td>windows;mac;linux</td>\n",
       "      <td>0</td>\n",
       "      <td>Action</td>\n",
       "      <td>33</td>\n",
       "      <td>67902</td>\n",
       "      <td>2419</td>\n",
       "      <td>691</td>\n",
       "      <td>402</td>\n",
       "      <td>10000000-20000000</td>\n",
       "      <td>7.19</td>\n",
       "    </tr>\n",
       "  </tbody>\n",
       "</table>\n",
       "</div>"
      ],
      "text/plain": [
       "   appid                            name release_date  english  \\\n",
       "0     10                  Counter-Strike   2000-11-01        1   \n",
       "1     20           Team Fortress Classic   1999-04-01        1   \n",
       "2     30                   Day of Defeat   2003-05-01        1   \n",
       "3     40              Deathmatch Classic   2001-06-01        1   \n",
       "4     50       Half-Life: Opposing Force   1999-11-01        1   \n",
       "5     60                        Ricochet   2000-11-01        1   \n",
       "6     70                       Half-Life   1998-11-08        1   \n",
       "7     80  Counter-Strike: Condition Zero   2004-03-01        1   \n",
       "8    130           Half-Life: Blue Shift   2001-06-01        1   \n",
       "9    220                     Half-Life 2   2004-11-16        1   \n",
       "\n",
       "          developer publisher          platforms  required_age  genres  \\\n",
       "0             Valve     Valve  windows;mac;linux             0  Action   \n",
       "1             Valve     Valve  windows;mac;linux             0  Action   \n",
       "2             Valve     Valve  windows;mac;linux             0  Action   \n",
       "3             Valve     Valve  windows;mac;linux             0  Action   \n",
       "4  Gearbox Software     Valve  windows;mac;linux             0  Action   \n",
       "5             Valve     Valve  windows;mac;linux             0  Action   \n",
       "6             Valve     Valve  windows;mac;linux             0  Action   \n",
       "7             Valve     Valve  windows;mac;linux             0  Action   \n",
       "8  Gearbox Software     Valve  windows;mac;linux             0  Action   \n",
       "9             Valve     Valve  windows;mac;linux             0  Action   \n",
       "\n",
       "   achievements  positive_ratings  negative_ratings  average_playtime  \\\n",
       "0             0            124534              3339             17612   \n",
       "1             0              3318               633               277   \n",
       "2             0              3416               398               187   \n",
       "3             0              1273               267               258   \n",
       "4             0              5250               288               624   \n",
       "5             0              2758               684               175   \n",
       "6             0             27755              1100              1300   \n",
       "7             0             12120              1439               427   \n",
       "8             0              3822               420               361   \n",
       "9            33             67902              2419               691   \n",
       "\n",
       "   median_playtime             owners  price  \n",
       "0              317  10000000-20000000   7.19  \n",
       "1               62   5000000-10000000   3.99  \n",
       "2               34   5000000-10000000   3.99  \n",
       "3              184   5000000-10000000   3.99  \n",
       "4              415   5000000-10000000   3.99  \n",
       "5               10   5000000-10000000   3.99  \n",
       "6               83   5000000-10000000   7.19  \n",
       "7               43  10000000-20000000   7.19  \n",
       "8              205   5000000-10000000   3.99  \n",
       "9              402  10000000-20000000   7.19  "
      ]
     },
     "metadata": {},
     "output_type": "display_data"
    },
    {
     "name": "stdout",
     "output_type": "stream",
     "text": [
      "appid                0\n",
      "name                 0\n",
      "release_date         0\n",
      "english              0\n",
      "developer            1\n",
      "publisher           14\n",
      "platforms            0\n",
      "required_age         0\n",
      "genres               0\n",
      "achievements         0\n",
      "positive_ratings     0\n",
      "negative_ratings     0\n",
      "average_playtime     0\n",
      "median_playtime      0\n",
      "owners               0\n",
      "price                0\n",
      "dtype: int64\n",
      "appid               0\n",
      "name                0\n",
      "release_date        0\n",
      "english             0\n",
      "developer           0\n",
      "publisher           0\n",
      "platforms           0\n",
      "required_age        0\n",
      "genres              0\n",
      "achievements        0\n",
      "positive_ratings    0\n",
      "negative_ratings    0\n",
      "average_playtime    0\n",
      "median_playtime     0\n",
      "owners              0\n",
      "price               0\n",
      "dtype: int64\n"
     ]
    },
    {
     "data": {
      "text/html": [
       "<div>\n",
       "<style scoped>\n",
       "    .dataframe tbody tr th:only-of-type {\n",
       "        vertical-align: middle;\n",
       "    }\n",
       "\n",
       "    .dataframe tbody tr th {\n",
       "        vertical-align: top;\n",
       "    }\n",
       "\n",
       "    .dataframe thead th {\n",
       "        text-align: right;\n",
       "    }\n",
       "</style>\n",
       "<table border=\"1\" class=\"dataframe\">\n",
       "  <thead>\n",
       "    <tr style=\"text-align: right;\">\n",
       "      <th></th>\n",
       "      <th>appid</th>\n",
       "      <th>english</th>\n",
       "      <th>required_age</th>\n",
       "      <th>achievements</th>\n",
       "      <th>positive_ratings</th>\n",
       "      <th>negative_ratings</th>\n",
       "      <th>average_playtime</th>\n",
       "      <th>median_playtime</th>\n",
       "      <th>price</th>\n",
       "    </tr>\n",
       "  </thead>\n",
       "  <tbody>\n",
       "    <tr>\n",
       "      <th>count</th>\n",
       "      <td>2.707500e+04</td>\n",
       "      <td>27075.000000</td>\n",
       "      <td>27075.000000</td>\n",
       "      <td>27075.000000</td>\n",
       "      <td>2.707500e+04</td>\n",
       "      <td>27075.000000</td>\n",
       "      <td>27075.000000</td>\n",
       "      <td>27075.00000</td>\n",
       "      <td>27075.000000</td>\n",
       "    </tr>\n",
       "    <tr>\n",
       "      <th>mean</th>\n",
       "      <td>5.962035e+05</td>\n",
       "      <td>0.981127</td>\n",
       "      <td>0.354903</td>\n",
       "      <td>45.248864</td>\n",
       "      <td>1.000559e+03</td>\n",
       "      <td>211.027147</td>\n",
       "      <td>149.804949</td>\n",
       "      <td>146.05603</td>\n",
       "      <td>6.078193</td>\n",
       "    </tr>\n",
       "    <tr>\n",
       "      <th>std</th>\n",
       "      <td>2.508942e+05</td>\n",
       "      <td>0.136081</td>\n",
       "      <td>2.406044</td>\n",
       "      <td>352.670281</td>\n",
       "      <td>1.898872e+04</td>\n",
       "      <td>4284.938531</td>\n",
       "      <td>1827.038141</td>\n",
       "      <td>2353.88008</td>\n",
       "      <td>7.874922</td>\n",
       "    </tr>\n",
       "    <tr>\n",
       "      <th>min</th>\n",
       "      <td>1.000000e+01</td>\n",
       "      <td>0.000000</td>\n",
       "      <td>0.000000</td>\n",
       "      <td>0.000000</td>\n",
       "      <td>0.000000e+00</td>\n",
       "      <td>0.000000</td>\n",
       "      <td>0.000000</td>\n",
       "      <td>0.00000</td>\n",
       "      <td>0.000000</td>\n",
       "    </tr>\n",
       "    <tr>\n",
       "      <th>25%</th>\n",
       "      <td>4.012300e+05</td>\n",
       "      <td>1.000000</td>\n",
       "      <td>0.000000</td>\n",
       "      <td>0.000000</td>\n",
       "      <td>6.000000e+00</td>\n",
       "      <td>2.000000</td>\n",
       "      <td>0.000000</td>\n",
       "      <td>0.00000</td>\n",
       "      <td>1.690000</td>\n",
       "    </tr>\n",
       "    <tr>\n",
       "      <th>50%</th>\n",
       "      <td>5.990700e+05</td>\n",
       "      <td>1.000000</td>\n",
       "      <td>0.000000</td>\n",
       "      <td>7.000000</td>\n",
       "      <td>2.400000e+01</td>\n",
       "      <td>9.000000</td>\n",
       "      <td>0.000000</td>\n",
       "      <td>0.00000</td>\n",
       "      <td>3.990000</td>\n",
       "    </tr>\n",
       "    <tr>\n",
       "      <th>75%</th>\n",
       "      <td>7.987600e+05</td>\n",
       "      <td>1.000000</td>\n",
       "      <td>0.000000</td>\n",
       "      <td>23.000000</td>\n",
       "      <td>1.260000e+02</td>\n",
       "      <td>42.000000</td>\n",
       "      <td>0.000000</td>\n",
       "      <td>0.00000</td>\n",
       "      <td>7.190000</td>\n",
       "    </tr>\n",
       "    <tr>\n",
       "      <th>max</th>\n",
       "      <td>1.069460e+06</td>\n",
       "      <td>1.000000</td>\n",
       "      <td>18.000000</td>\n",
       "      <td>9821.000000</td>\n",
       "      <td>2.644404e+06</td>\n",
       "      <td>487076.000000</td>\n",
       "      <td>190625.000000</td>\n",
       "      <td>190625.00000</td>\n",
       "      <td>421.990000</td>\n",
       "    </tr>\n",
       "  </tbody>\n",
       "</table>\n",
       "</div>"
      ],
      "text/plain": [
       "              appid       english  required_age  achievements  \\\n",
       "count  2.707500e+04  27075.000000  27075.000000  27075.000000   \n",
       "mean   5.962035e+05      0.981127      0.354903     45.248864   \n",
       "std    2.508942e+05      0.136081      2.406044    352.670281   \n",
       "min    1.000000e+01      0.000000      0.000000      0.000000   \n",
       "25%    4.012300e+05      1.000000      0.000000      0.000000   \n",
       "50%    5.990700e+05      1.000000      0.000000      7.000000   \n",
       "75%    7.987600e+05      1.000000      0.000000     23.000000   \n",
       "max    1.069460e+06      1.000000     18.000000   9821.000000   \n",
       "\n",
       "       positive_ratings  negative_ratings  average_playtime  median_playtime  \\\n",
       "count      2.707500e+04      27075.000000      27075.000000      27075.00000   \n",
       "mean       1.000559e+03        211.027147        149.804949        146.05603   \n",
       "std        1.898872e+04       4284.938531       1827.038141       2353.88008   \n",
       "min        0.000000e+00          0.000000          0.000000          0.00000   \n",
       "25%        6.000000e+00          2.000000          0.000000          0.00000   \n",
       "50%        2.400000e+01          9.000000          0.000000          0.00000   \n",
       "75%        1.260000e+02         42.000000          0.000000          0.00000   \n",
       "max        2.644404e+06     487076.000000     190625.000000     190625.00000   \n",
       "\n",
       "              price  \n",
       "count  27075.000000  \n",
       "mean       6.078193  \n",
       "std        7.874922  \n",
       "min        0.000000  \n",
       "25%        1.690000  \n",
       "50%        3.990000  \n",
       "75%        7.190000  \n",
       "max      421.990000  "
      ]
     },
     "metadata": {},
     "output_type": "display_data"
    }
   ],
   "source": [
    "df.drop_duplicates(inplace=True)\n",
    "display(df.head(10))\n",
    "print(df.isnull().sum())#пропусков практически нет, 14 в publisher и 1 в developer, заменим на Unknown\n",
    "df.developer.fillna(\"Unknown\",inplace=True)\n",
    "df.publisher.fillna(\"Unknown\",inplace=True)\n",
    "print(df.isnull().sum())#проверка, что всё заменили\n",
    "display(df.describe())#можно приступать к первичному анализу"
   ]
  },
  {
   "cell_type": "markdown",
   "metadata": {},
   "source": [
    "Результаты первичного анализа:  \n",
    "Данные а датафрейме приведены с 1997-06-30 по 2019-05-01  \n",
    "Большинство игр(98%) на имеют английский язык  \n",
    "Средняя цена игры - 6.07, максимальная - 421, минимальная - 0"
   ]
  },
  {
   "cell_type": "markdown",
   "metadata": {},
   "source": [
    "2) Рассчитайте среднюю стоимость игр в Steam "
   ]
  },
  {
   "cell_type": "code",
   "execution_count": 227,
   "metadata": {},
   "outputs": [
    {
     "name": "stdout",
     "output_type": "stream",
     "text": [
      "Средняя цена игр в Steam: 6.078193167128348\n"
     ]
    }
   ],
   "source": [
    "print(f\"Средняя цена игр в Steam: {df.price.mean()}\")"
   ]
  },
  {
   "cell_type": "markdown",
   "metadata": {},
   "source": [
    "Результат первичного анализа подтвердился"
   ]
  },
  {
   "cell_type": "markdown",
   "metadata": {},
   "source": [
    "3) Постройте диаграмму, которая иллюстрирует, какое количество игр поддерживает английский язык, а какое — нет "
   ]
  },
  {
   "cell_type": "code",
   "execution_count": 4,
   "metadata": {},
   "outputs": [
    {
     "name": "stdout",
     "output_type": "stream",
     "text": [
      "english\n",
      "1    26564\n",
      "0      511\n",
      "Name: count, dtype: int64\n"
     ]
    },
    {
     "data": {
      "image/png": "[encoded data removed]",
      "text/plain": [
       "<Figure size 800x800 with 1 Axes>"
      ]
     },
     "metadata": {},
     "output_type": "display_data"
    }
   ],
   "source": [
    "fig, ax = plt.subplots(figsize=(8,8))#создаём фигуру и ось\n",
    "print(df.english.value_counts())#думаю, отсюда можно вытащить поддержку/не поддержку английского\n",
    "ax.pie([df.english.value_counts()[0],df.english.value_counts()[1]],autopct='%1.1f%%')#строим круговую диаграмму\n",
    "ax.set_title(\"Диаграмма отображения поддержки английского языка в играх\")\n",
    "ax.legend([\"Поддерживают\",\"Не поддерживают\"])\n",
    "fig.show(warn=False)"
   ]
  },
  {
   "cell_type": "markdown",
   "metadata": {},
   "source": [
    "Вывод: результаты первичного анализа всё так же верны:  \n",
    "98,1% поддерживают английский, 1.9% - нет  \n",
    "Таким образом, абсолютное большинство разработчиков работает, в первую очередь, на англоговорящую аудиторию\n"
   ]
  },
  {
   "cell_type": "markdown",
   "metadata": {},
   "source": [
    "4) Постройте диаграмму, которая иллюстрирует, какое количество игр является бесплатными, а какое требуется покупать "
   ]
  },
  {
   "cell_type": "code",
   "execution_count": 5,
   "metadata": {},
   "outputs": [
    {
     "name": "stdout",
     "output_type": "stream",
     "text": [
      "2560\n",
      "24515\n"
     ]
    },
    {
     "data": {
      "image/png": "[encoded data removed]",
      "text/plain": [
       "<Figure size 700x700 with 1 Axes>"
      ]
     },
     "metadata": {},
     "output_type": "display_data"
    }
   ],
   "source": [
    "len_0=len(df[df[\"price\"]==0])# строки, где цена игры = 0\n",
    "len_1=len(df[df[\"price\"]>0])#цена больше 0\n",
    "print(len_0)\n",
    "print(len_1)\n",
    "fig,ax=plt.subplots(figsize=(7,7))\n",
    "ax.pie([len_0,len_1],autopct='%1.1f%%')#построение аналогично предыдущему пункту\n",
    "ax.set_title(\"Диаграмма отображения соотношения платных и бесплатных игр\")\n",
    "ax.legend([\"Бесплатные игры\", \"Платные игры\"])\n",
    "fig.show(warn=False)"
   ]
  },
  {
   "cell_type": "markdown",
   "metadata": {},
   "source": [
    "Вывод:  \n",
    "90,5% игр на рынке являются платными. Следовательно, большинство издателей предпочитают изначально платную основу распространения, а не free-to-play.\n",
    "На бесплатную основу распространения приходится лишь 9,5% рынка"
   ]
  },
  {
   "cell_type": "markdown",
   "metadata": {},
   "source": [
    "5) Постройте сводную таблицу с количеством выпущенных игр за каждый год (постройте для неё гистограмму) "
   ]
  },
  {
   "cell_type": "code",
   "execution_count": 6,
   "metadata": {},
   "outputs": [
    {
     "data": {
      "text/plain": [
       "year\n",
       "1997       1\n",
       "1998       1\n",
       "1999       2\n",
       "2000       2\n",
       "2001       4\n",
       "2002       1\n",
       "2003       3\n",
       "2004       6\n",
       "2005       6\n",
       "2006      48\n",
       "2007      93\n",
       "2008     145\n",
       "2009     305\n",
       "2010     238\n",
       "2011     239\n",
       "2012     320\n",
       "2013     418\n",
       "2014    1555\n",
       "2015    2597\n",
       "2016    4361\n",
       "2017    6357\n",
       "2018    8160\n",
       "2019    2213\n",
       "Name: appid, dtype: int64"
      ]
     },
     "metadata": {},
     "output_type": "display_data"
    }
   ],
   "source": [
    "df[\"release_date\"]=pd.to_datetime(df[\"release_date\"])#форматируем тип столбца для облегчения дальнейшей работы\n",
    "df[\"year\"]=df.release_date.dt.year#формируем новый столбец - год выпуска\n",
    "pivot=df.groupby(by=[\"year\"])[\"appid\"].agg(\"count\")\n",
    "display(pivot)#итоговая сводная таблица"
   ]
  },
  {
   "cell_type": "code",
   "execution_count": 7,
   "metadata": {},
   "outputs": [
    {
     "data": {
      "image/png": "[encoded data removed]",
      "text/plain": [
       "<Figure size 640x480 with 1 Axes>"
      ]
     },
     "metadata": {},
     "output_type": "display_data"
    }
   ],
   "source": [
    "fig,ax = plt.subplots()\n",
    "#ax.hist(pivot, bins=2) строил гистограмму по заданию, получился крайне неинформативный график, решил строить обычную столбчатую диаграмму\n",
    "ax.bar(pivot.index,list(pivot))\n",
    "fig.show(warn=False)"
   ]
  },
  {
   "cell_type": "markdown",
   "metadata": {},
   "source": [
    "Вывод:  \n",
    "Видим, что за период 1997-2013 площадка практически не пользовалась спросом  \n",
    "2014-2018 характеризуется подъёмом выпуска игр на площадке, данные 2019 года можно считать некорректными, т.к имеем данные только первой половины года"
   ]
  },
  {
   "cell_type": "markdown",
   "metadata": {},
   "source": [
    "6) Найдите и постройте диаграмму для топ 10 разработчиков видеоигр и отдельно для топ 10 издателей видеоигр, начиная с 2017 года (включительно) "
   ]
  },
  {
   "cell_type": "code",
   "execution_count": 239,
   "metadata": {},
   "outputs": [
    {
     "data": {
      "text/plain": [
       "developer\n",
       "Choice of Games               94\n",
       "KOEI TECMO GAMES CO., LTD.    72\n",
       "Ripknot Systems               62\n",
       "Laush Dmitriy Sergeevich      51\n",
       "Nikita \"Ghost_RUS\"            50\n",
       "Dexion Games                  45\n",
       "RewindApp                     43\n",
       "Hosted Games                  42\n",
       "Blender Games                 40\n",
       "For Kids                      36\n",
       "Name: count, dtype: int64"
      ]
     },
     "metadata": {},
     "output_type": "display_data"
    },
    {
     "data": {
      "text/plain": [
       "developer\n",
       "Choice of Games               94\n",
       "KOEI TECMO GAMES CO., LTD.    72\n",
       "Ripknot Systems               62\n",
       "Laush Dmitriy Sergeevich      51\n",
       "Nikita \"Ghost_RUS\"            50\n",
       "Dexion Games                  45\n",
       "RewindApp                     43\n",
       "Hosted Games                  42\n",
       "Blender Games                 40\n",
       "For Kids                      36\n",
       "Name: count, dtype: int64"
      ]
     },
     "metadata": {},
     "output_type": "display_data"
    }
   ],
   "source": [
    "display(df.loc[df[\"year\"]>=17,\"developer\"].value_counts().head(10))\n",
    "display(df.developer.value_counts().head(10))"
   ]
  },
  {
   "cell_type": "markdown",
   "metadata": {},
   "source": [
    "Вывод:  \n",
    "По списку можем заметить, что в топе разработчиков есть не только крупные студии, но и разработчики-одиночки/небольшие команды  \n",
    "Также можно заметить, на удивление, что топ разработчиков за период с 2017 и за период с 1997 не отличаются"
   ]
  },
  {
   "cell_type": "code",
   "execution_count": 240,
   "metadata": {},
   "outputs": [
    {
     "data": {
      "text/plain": [
       "publisher\n",
       "Big Fish Games         212\n",
       "Strategy First         136\n",
       "Ubisoft                111\n",
       "THQ Nordic              98\n",
       "Square Enix             97\n",
       "Sekai Project           96\n",
       "Choice of Games         94\n",
       "1C Entertainment        88\n",
       "Dagestan Technology     88\n",
       "SEGA                    78\n",
       "Name: count, dtype: int64"
      ]
     },
     "metadata": {},
     "output_type": "display_data"
    }
   ],
   "source": [
    "display(df.loc[df[\"year\"]>=17,\"publisher\"].value_counts().head(10))"
   ]
  },
  {
   "cell_type": "markdown",
   "metadata": {},
   "source": [
    "Вывод:  \n",
    "С огромным отрывом от остальных идёт Big Fish Games, остальные издатели отличаются друг от друга незначительно"
   ]
  },
  {
   "cell_type": "markdown",
   "metadata": {},
   "source": [
    "7) Необходимо вывести топ 6 игр по количеству пользователей (owners) \n"
   ]
  },
  {
   "cell_type": "code",
   "execution_count": 225,
   "metadata": {},
   "outputs": [
    {
     "data": {
      "text/html": [
       "<div>\n",
       "<style scoped>\n",
       "    .dataframe tbody tr th:only-of-type {\n",
       "        vertical-align: middle;\n",
       "    }\n",
       "\n",
       "    .dataframe tbody tr th {\n",
       "        vertical-align: top;\n",
       "    }\n",
       "\n",
       "    .dataframe thead th {\n",
       "        text-align: right;\n",
       "    }\n",
       "</style>\n",
       "<table border=\"1\" class=\"dataframe\">\n",
       "  <thead>\n",
       "    <tr style=\"text-align: right;\">\n",
       "      <th></th>\n",
       "      <th>name</th>\n",
       "      <th>owners_up</th>\n",
       "    </tr>\n",
       "  </thead>\n",
       "  <tbody>\n",
       "    <tr>\n",
       "      <th>22</th>\n",
       "      <td>Dota 2</td>\n",
       "      <td>200000000</td>\n",
       "    </tr>\n",
       "    <tr>\n",
       "      <th>25</th>\n",
       "      <td>Counter-Strike: Global Offensive</td>\n",
       "      <td>100000000</td>\n",
       "    </tr>\n",
       "    <tr>\n",
       "      <th>12836</th>\n",
       "      <td>PLAYERUNKNOWN'S BATTLEGROUNDS</td>\n",
       "      <td>100000000</td>\n",
       "    </tr>\n",
       "    <tr>\n",
       "      <th>19</th>\n",
       "      <td>Team Fortress 2</td>\n",
       "      <td>50000000</td>\n",
       "    </tr>\n",
       "    <tr>\n",
       "      <th>3362</th>\n",
       "      <td>Unturned</td>\n",
       "      <td>50000000</td>\n",
       "    </tr>\n",
       "    <tr>\n",
       "      <th>1634</th>\n",
       "      <td>Warframe</td>\n",
       "      <td>50000000</td>\n",
       "    </tr>\n",
       "  </tbody>\n",
       "</table>\n",
       "</div>"
      ],
      "text/plain": [
       "                                   name  owners_up\n",
       "22                               Dota 2  200000000\n",
       "25     Counter-Strike: Global Offensive  100000000\n",
       "12836     PLAYERUNKNOWN'S BATTLEGROUNDS  100000000\n",
       "19                      Team Fortress 2   50000000\n",
       "3362                           Unturned   50000000\n",
       "1634                           Warframe   50000000"
      ]
     },
     "metadata": {},
     "output_type": "display_data"
    }
   ],
   "source": [
    "listy0=[]\n",
    "listy1=[]\n",
    "for str in df.owners:#в цикле проходим по каждой строке столбца owner, сплитуем строку по -, формируем два списка - по минимуму пользователей и по максимуму\n",
    "    str=str.split(\"-\")\n",
    "    listy0.append(int(str[0]))\n",
    "    listy1.append(int(str[1]))\n",
    "df[\"owners_down\"]=listy0\n",
    "df[\"owners_up\"]=listy1\n",
    "display(df.sort_values(by=\"owners_up\", ascending=False).head(6)[[\"name\",\"owners_up\"]])"
   ]
  },
  {
   "cell_type": "markdown",
   "metadata": {},
   "source": [
    "Вывод:  \n",
    "Отличается от остальных огромным числом пользователей Dota 2, за ней располагаются Counter-Strike: Global Offensive и PLAYERUNKNOWN'S BATTLEGROUNDS с одинаковым верхним значением в 100000000, далее идут Team Fortress 2, Team Fortress 2 и Warframe с 50000000 пользователями."
   ]
  },
  {
   "cell_type": "markdown",
   "metadata": {},
   "source": [
    "Вывод по работе:  \n",
    "1) Абсолютное большинство игр поддерживают английский и имеют платную модель распространения. Можно учитывать при планировании маркетинга игры.\n",
    "2) Средняя цена - 6 условных единиц (баксов, вероятно, однако точно не указано). Также можно учитывать при расчитывании стоимости игры как среднее значение по рынку.\n",
    "3) Выявили топ издателей и разработчиков. Может пригодиться при поиске команды разработчиков и проверенного издателя соответсвенно\n",
    "4) Dota 2 обгоняет любую другую игру по пользователям минимум в 2 раза. Можно иследовать концепцию игры и использовать её как базис для разработки собственной. "
   ]
  }
 ],
 "metadata": {
  "kernelspec": {
   "display_name": "Python 3",
   "language": "python",
   "name": "python3"
  },
  "language_info": {
   "codemirror_mode": {
    "name": "ipython",
    "version": 3
   },
   "file_extension": ".py",
   "mimetype": "text/x-python",
   "name": "python",
   "nbconvert_exporter": "python",
   "pygments_lexer": "ipython3",
   "version": "3.8.2"
  },
  "orig_nbformat": 4
 },
 "nbformat": 4,
 "nbformat_minor": 2
}
